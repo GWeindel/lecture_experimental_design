{
 "cells": [
  {
   "cell_type": "markdown",
   "metadata": {},
   "source": [
    "Bonjour à tous,\n",
    "\n",
    "Ceci est un fichier de note spécial COVID-19 qui contient du code d'analyse pour vous illustrer l'importance des choix expérimentaux que nous avons vu durant le cours en nous appuyant sur l'experience de Posner et Mitchell (1967). La partie code n'est utile que pour ceux que ça intéresse, pour les autres vous pouvez parfaitement vous contenter de lire les sorties des cellules de codes en complément de mes commentaires."
   ]
  },
  {
   "cell_type": "code",
   "execution_count": 1,
   "metadata": {},
   "outputs": [],
   "source": [
    "## Import des librairies python (3.7) nécessaires\n",
    "import os\n",
    "import pandas as pd\n",
    "import matplotlib.pyplot as plt\n",
    "import numpy as np"
   ]
  },
  {
   "cell_type": "markdown",
   "metadata": {},
   "source": [
    "## Lecture et rassemblement de vos données"
   ]
  },
  {
   "cell_type": "markdown",
   "metadata": {},
   "source": [
    "Ici je crée la variable qui va contenir les données de tous les participants que vous avez récoltés, la sortie de la cellule 2 vous montre un extrait de ce sur quoi je vais travailler le long de ce fichier de note. Je passe par python mais la logique tient pour excel ou n'importe quel autre moyen d'analyse."
   ]
  },
  {
   "cell_type": "code",
   "execution_count": 2,
   "metadata": {},
   "outputs": [
    {
     "name": "stdout",
     "output_type": "stream",
     "text": [
      "    expected   response  precision         rt  trial  tache  participant ordre\n",
      "0       same       same        1.0  1200.4618    1.0    1.0            1   123\n",
      "1  different  different        1.0   841.4807    2.0    1.0            1   123\n",
      "2       same       same        1.0  1070.5012    3.0    1.0            1   123\n",
      "3       same       same        1.0   794.7262    4.0    1.0            1   123\n",
      "4  different  different        1.0   607.6545    5.0    1.0            1   123\n"
     ]
    }
   ],
   "source": [
    "list_ = []#variable vide pour stocker les données\n",
    "for f in os.listdir('data/'):#Pour chaque fichier dans le répértoire data\n",
    "    raw_ = pd.read_csv('data/'+f)#lire le fichier\n",
    "    raw_['ordre'] = f.split('_')[0]#extraire l'ordre \n",
    "    raw_['participant'] = f.split('_')[1]#le nom du participant\n",
    "    #Supprimer les variables inutiles pour plus de clareté :\n",
    "    del raw_['expName']\n",
    "    del raw_['date']\n",
    "    del raw_['Unnamed: 10']\n",
    "    del raw_['tache.1']\n",
    "    list_.append(raw_)\n",
    "df = pd.concat(list_, ignore_index=True)#rassembler le tout\n",
    "df = df[np.isfinite(df.trial)]#fix petit bug chez certain\n",
    "df.participant = df.participant.replace(df.participant.unique(), np.arange(10)+1)#Anonymisation des participants en leur attribuant des numéros\n",
    "df.rt = df.rt*1000 #conversion de seconde à milliseconde pour faciliter la lecture, rt = temps de réaction\n",
    "print(df.head())#afficher un extrait des données rassemblées\n",
    "df.to_csv('df.csv')#export des données"
   ]
  },
  {
   "cell_type": "markdown",
   "metadata": {},
   "source": [
    "Précision sur les colonnes : Expected = réponse attendue, Response = réponse donnée, précision = rep correcte(0)/incorrecte(1), rt = temps de réaction, trial = numéro de l'essai"
   ]
  },
  {
   "cell_type": "markdown",
   "metadata": {},
   "source": [
    "# Analyse des choix expérimentaux"
   ]
  },
  {
   "cell_type": "markdown",
   "metadata": {},
   "source": [
    "Nous avons ''choisi'' (ou en tout cas le confinement nous a forcé) de récolter 10 participants"
   ]
  },
  {
   "cell_type": "code",
   "execution_count": 3,
   "metadata": {},
   "outputs": [
    {
     "name": "stdout",
     "output_type": "stream",
     "text": [
      "[ 1  2  3  4  5  6  7  8  9 10]\n",
      "10\n"
     ]
    }
   ],
   "source": [
    "print(df.participant.unique())#ici on exporte le nombre d'identifiant de sujet unique\n",
    "print(len(df.participant.unique()))#là je ne fais que compter le nombre de sujet"
   ]
  },
  {
   "cell_type": "markdown",
   "metadata": {},
   "source": [
    "Chacun de ces sujets a passé les trois tâches + la tâche d'entrainement"
   ]
  },
  {
   "cell_type": "code",
   "execution_count": 4,
   "metadata": {},
   "outputs": [
    {
     "name": "stdout",
     "output_type": "stream",
     "text": [
      "[1. 2. 3. 0.]\n",
      "4\n"
     ]
    }
   ],
   "source": [
    "print(df.tache.unique())\n",
    "print(len(df.tache.unique()))"
   ]
  },
  {
   "cell_type": "markdown",
   "metadata": {},
   "source": [
    "Chaque sujet a passé 96 essais pour chaque tâche (et 16 pour l'entraînement), exemple pour le participant n°1"
   ]
  },
  {
   "cell_type": "code",
   "execution_count": 5,
   "metadata": {},
   "outputs": [
    {
     "name": "stdout",
     "output_type": "stream",
     "text": [
      "participant  tache\n",
      "1            0.0      16\n",
      "             1.0      96\n",
      "             2.0      96\n",
      "             3.0      96\n",
      "Name: trial, dtype: int64\n"
     ]
    }
   ],
   "source": [
    "print(df.groupby(['participant','tache']).trial.count().head(4))#Ici je groupe par taches et par participants et je compte le nombre d'essais au sein de ces cellules finalement j'affiche uniquement le premier sujet"
   ]
  },
  {
   "cell_type": "markdown",
   "metadata": {},
   "source": [
    "# Plan Expérimental"
   ]
  },
  {
   "cell_type": "markdown",
   "metadata": {},
   "source": [
    "Notre plan expérimental est le suivant : \n",
    "\n",
    "$\\underline{S}_{10} \\times Tache_3$\n",
    "\n",
    "Comme vu en cours, dans le cas d'un plan emboîté, on a pas besoin de procéder à une attribution aléatoire de nos participants à une des modalités de notre VI puisque chaque participant passe par toutes les modalités de la VI.\n",
    "En revanche un facteur important que l'on introduit par un facteur emboîté c'est le facteur d'ordre pour cela on cherche à contrbalancer l'ordre de passation.\n",
    "\n",
    "Initialement dans le cadre du cours, chaque expérimentateur s'était vu attribué un ordre particulier parmi les ordres possibles : 123,231,312,213,321,132\n"
   ]
  },
  {
   "cell_type": "markdown",
   "metadata": {},
   "source": [
    "Malheureusement, confinement se faisant, seuls quatre d'entre vous ont pu m'envoyer leurs données, au final tous les ordres ne sont pas représentés et certains le sont plus que d'autres : "
   ]
  },
  {
   "cell_type": "code",
   "execution_count": 6,
   "metadata": {},
   "outputs": [
    {
     "name": "stdout",
     "output_type": "stream",
     "text": [
      "ordre\n",
      "123    1520\n",
      "213     608\n",
      "321     912\n",
      "Name: trial, dtype: int64\n"
     ]
    }
   ],
   "source": [
    "print(df.groupby(['ordre']).trial.count())#Ici je compte le nombre d'essai pour chaque ordre"
   ]
  },
  {
   "cell_type": "markdown",
   "metadata": {},
   "source": [
    "Notez que par simplicité je vous ai attribué un ordre à chacun, confondant ainsi le facteur ordre et le facteur expérimentateur, idéalement il aurait fallu que chacun fasse passer tous les ordres."
   ]
  },
  {
   "cell_type": "markdown",
   "metadata": {},
   "source": [
    "# Choix a priori de la variable dépendante"
   ]
  },
  {
   "cell_type": "markdown",
   "metadata": {},
   "source": [
    "Comme vu en cours une tâche de choix génère automatiquement deux VD, la justesse de la réponse (correcte ou incorrecte) et le temps nécessaire au choix (temps de réaction).\n",
    "\n",
    "Dans cette tâche on a choisi une tâche relativement simple dans laquelle nous n'attendons pas beaucoup d'erreurs, on peut le vérifier de la façon suivante :"
   ]
  },
  {
   "cell_type": "code",
   "execution_count": 7,
   "metadata": {},
   "outputs": [
    {
     "data": {
      "text/plain": [
       "0.9486842105263158"
      ]
     },
     "execution_count": 7,
     "metadata": {},
     "output_type": "execute_result"
    }
   ],
   "source": [
    "df.precision.mean()#on calcule la moyenne des 0 (incorrecte) et 1 (correcte) dans la colonne précision"
   ]
  },
  {
   "cell_type": "markdown",
   "metadata": {},
   "source": [
    "Le taux de réponse correcte est effectivement très élevé (environ 95\\%), ainsi observer une modification de cette VD risque d'être difficile puisqe beaucoup de participant vont être très proches d'une performance plafond.\n",
    "\n",
    "Ainsi on choisi de travailler sur le temps de réaction (TR), et d'observer l'effet de notre VI sur ce TR.\n",
    "\n",
    "Si on regarde la distribution des temps de réaction, indifféremment du participant ou de la tâche (donc 96 essais * 3 tâche * 10 participants = 2880 observations) on observe l'histogramme suivant :"
   ]
  },
  {
   "cell_type": "code",
   "execution_count": 8,
   "metadata": {},
   "outputs": [
    {
     "data": {
      "image/png": "[encoded data removed]",
      "text/plain": [
       "<Figure size 800x400 with 1 Axes>"
      ]
     },
     "metadata": {},
     "output_type": "display_data"
    }
   ],
   "source": [
    "fig=plt.figure(figsize=(10,5), dpi=80, facecolor='w', edgecolor='k')\n",
    "df.rt.hist(bins=100)\n",
    "plt.ylabel('Fréquence')\n",
    "plt.xlabel('Temps de réaction (millisecondes)')\n",
    "plt.show()"
   ]
  },
  {
   "cell_type": "markdown",
   "metadata": {},
   "source": [
    "Ici chaque barre/créneau représente une discrétisation de la VD, ex. la barre au dessus des 500ms comprends les TR entre (par exemple) 475 et 525 ms.\n",
    "La valeur en y représente la fréquence dans l'échantillon ainsi un TR entre 475 et 525ms est présent environ 225 fois dans notre échantillon, elle est donc beaucoup plus fréquente que les TR autour des 2000 ms par exemple."
   ]
  },
  {
   "cell_type": "markdown",
   "metadata": {},
   "source": [
    "# Hypothèse"
   ]
  },
  {
   "cell_type": "markdown",
   "metadata": {},
   "source": [
    "L'hypothèse simplifiée que nous allons tester provient de l'article de Ponser et Michell (1967), qui eux même se basent sur la méthode soustractive de Donders (1868).\n",
    "\n",
    "Notre prédiction c'est que le TR représente le parcours de l'information à travers différents modules de traitement, ainsi nous attendons à ce qu'une tâche qui à une étape de plus qu'une autre soit plus lente que celle-ci.\n",
    "\n",
    "- La tache 1 représentait une discrimination de l'identité physique (e.g. A et a sont différents, A et A sont les mêmes)\n",
    "- La tâche 2 représentation une discrimination sur l'identité symboliques des lettres (e.g. A et B sont différents, A et a sont les mêmes)\n",
    "- La tâche 3 représentation une discrimination de catégorie, syllabe ou voyelle (e.g. A et B sont différents, A et E sont les mêmes)\n",
    "\n",
    "L'idée est que la tâche 3 comprends toutes les étapes de la tâche 2 + une étape d'identification de la catégorie. De la même faç_on la tâche 2 comprends toutes les étapes de la tâche 1 + une étape d'identification de la lettre.\n",
    "\n",
    "Ainsi sur notre VD on prédit : \n",
    "\n",
    "TR Tache 3 > TR Tache 2 > TR tache 1\n",
    "\n",
    "La tache 0, l'entrainement (chiffres) ne compte pas dns notre analyse, on l'utilise uniquement pour familiariser le sujet avec la tâche."
   ]
  },
  {
   "cell_type": "markdown",
   "metadata": {},
   "source": [
    "_Pour aller plus loin : On peut tester l'efficacité de notre tâche d'entraînement, on s'attend en effet à ce que nos sujets, a mesure qu'ils se familiarisent avec la tâche, aillent de plus en plus vite :_"
   ]
  },
  {
   "cell_type": "code",
   "execution_count": 9,
   "metadata": {},
   "outputs": [
    {
     "data": {
      "text/plain": [
       "Text(0.5, 0, \"numéro de l'essai\")"
      ]
     },
     "execution_count": 9,
     "metadata": {},
     "output_type": "execute_result"
    },
    {
     "data": {
      "image/png": "[encoded data removed]",
      "text/plain": [
       "<Figure size 432x288 with 1 Axes>"
      ]
     },
     "metadata": {
      "needs_background": "light"
     },
     "output_type": "display_data"
    }
   ],
   "source": [
    "#ici je sélectionne les TR pour la tâche d'entrainement et pour chaque essai (1,2,...,16) je fais la moyenne de mes participants\n",
    "essais = df[df.tache==0].groupby('trial').rt.mean()\n",
    "#ensuite je trace en x les essais et en y les valeurs de ces moyennes de TR\n",
    "plt.plot(essais.index, essais.values,'o-')\n",
    "plt.ylabel('temps de réaction (millisecondes)')\n",
    "plt.xlabel('numéro de l\\'essai')"
   ]
  },
  {
   "cell_type": "markdown",
   "metadata": {},
   "source": [
    "_j'observe effectivement que le premier TR est très lent comparé aux derniers, mes participants montrent bien un effet d'habituation à la tâche_"
   ]
  },
  {
   "cell_type": "markdown",
   "metadata": {},
   "source": [
    "# Test de l'hypothèse"
   ]
  },
  {
   "cell_type": "markdown",
   "metadata": {},
   "source": [
    "Mon hypothèse porte sur une différence de moyenne de TR en fonction de la tâche avec l'ordre 3 > 2 > 1. Je vais donc calculer et représenter ces moyennes"
   ]
  },
  {
   "cell_type": "code",
   "execution_count": 10,
   "metadata": {},
   "outputs": [
    {
     "name": "stdout",
     "output_type": "stream",
     "text": [
      "tache\n",
      "1.0    565.226635\n",
      "2.0    632.641484\n",
      "3.0    900.309932\n",
      "Name: rt, dtype: float64\n"
     ]
    }
   ],
   "source": [
    "moyennes = df[df.tache != 0].groupby('tache').rt.mean()\n",
    "print(moyennes)"
   ]
  },
  {
   "cell_type": "code",
   "execution_count": 11,
   "metadata": {},
   "outputs": [
    {
     "data": {
      "image/png": "[encoded data removed]",
      "text/plain": [
       "<Figure size 432x288 with 1 Axes>"
      ]
     },
     "metadata": {
      "needs_background": "light"
     },
     "output_type": "display_data"
    }
   ],
   "source": [
    "plt.plot(moyennes.index, moyennes.values,'o-')\n",
    "plt.ylabel('Moyenne de TR (ms)')\n",
    "plt.xlabel('numéro de la tâche')\n",
    "plt.xticks([1,2,3])\n",
    "plt.show()"
   ]
  },
  {
   "cell_type": "markdown",
   "metadata": {},
   "source": [
    "J'observe bien une augmentation du TR avec le numéro de la tâche dans l'ordre que j'ai théoriquement justifié au préalable."
   ]
  },
  {
   "cell_type": "markdown",
   "metadata": {},
   "source": [
    "évidemment l'observation d'un effet sur les moyennes n'est pas suffisante, il s'agit de prendre en compte la variabilité de nos données et si celle-ci pourrait aléatoirement avoir générée la différence dans nos moyennes, on pourrait déjà observer ça pour nos données en regardant simplement l'écart-type enter ces tâches"
   ]
  },
  {
   "cell_type": "code",
   "execution_count": 12,
   "metadata": {},
   "outputs": [
    {
     "name": "stdout",
     "output_type": "stream",
     "text": [
      "tache\n",
      "1.0    104.172081\n",
      "2.0     91.054207\n",
      "3.0    146.601501\n",
      "Name: rt, dtype: float64\n"
     ]
    }
   ],
   "source": [
    "moyennes = df[df.tache != 0].groupby('tache').rt.mean()\n",
    "#Je calcule d'abord les moyenne de TR pour chaque participant dans les trois tâches puis je calcule la dispersion, par l'ecart-type, de ces moyennes\n",
    "sd = df[df.tache != 0].groupby(['participant','tache']).rt.mean().reset_index().groupby('tache').rt.std()\n",
    "print(sd)"
   ]
  },
  {
   "cell_type": "code",
   "execution_count": 13,
   "metadata": {},
   "outputs": [
    {
     "data": {
      "image/png": "[encoded data removed]",
      "text/plain": [
       "<Figure size 432x288 with 1 Axes>"
      ]
     },
     "metadata": {
      "needs_background": "light"
     },
     "output_type": "display_data"
    }
   ],
   "source": [
    "plt.errorbar(moyennes.index, moyennes.values, yerr=sd, marker='o')\n",
    "plt.ylabel('Moyenne de TR (ms)')\n",
    "plt.xlabel('numéro de la tâche')\n",
    "plt.xticks([1,2,3])\n",
    "plt.show()"
   ]
  },
  {
   "cell_type": "markdown",
   "metadata": {},
   "source": [
    "Je vois clairement que la variabilité au sein des tâches rend difficilement compte de la différence observée pour mes moyennes, je peux par la suite tester formellement en appliquant un modèle statistiques (e.g. modèle linéaire)"
   ]
  },
  {
   "cell_type": "markdown",
   "metadata": {},
   "source": [
    "# Exploration de l'impact des choix expérimentaux"
   ]
  },
  {
   "cell_type": "markdown",
   "metadata": {},
   "source": [
    "## Différence entre un plan intra et un plan inter"
   ]
  },
  {
   "cell_type": "markdown",
   "metadata": {},
   "source": [
    "Pour illustrer la différence entre un plan inter et un plan intra je vais calculer les moyennes de TR par participant dans chaque tache"
   ]
  },
  {
   "cell_type": "code",
   "execution_count": 14,
   "metadata": {},
   "outputs": [
    {
     "name": "stdout",
     "output_type": "stream",
     "text": [
      "    participant  tache          rt\n",
      "0             1    1.0  164.639832\n",
      "1             1    2.0  162.821310\n",
      "2             1    3.0  443.536970\n",
      "3             2    1.0  233.900578\n",
      "4             2    2.0  181.688743\n",
      "5             2    3.0  344.272115\n",
      "6             3    1.0  118.710703\n",
      "7             3    2.0  211.372147\n",
      "8             3    3.0  339.048773\n",
      "9             4    1.0   79.540870\n",
      "10            4    2.0  149.452881\n",
      "11            4    3.0  493.078256\n",
      "12            5    1.0  136.388786\n",
      "13            5    2.0  190.107381\n",
      "14            5    3.0  235.632247\n",
      "15            6    1.0   77.257304\n",
      "16            6    2.0  110.446037\n",
      "17            6    3.0  307.205777\n",
      "18            7    1.0   94.835576\n",
      "19            7    2.0  106.568214\n",
      "20            7    3.0  321.920909\n",
      "21            8    1.0  146.826637\n",
      "22            8    2.0  118.148435\n",
      "23            8    3.0  153.523288\n",
      "24            9    1.0   79.648942\n",
      "25            9    2.0   96.581209\n",
      "26            9    3.0  237.883978\n",
      "27           10    1.0   76.701326\n",
      "28           10    2.0  116.264133\n",
      "29           10    3.0  366.314886\n"
     ]
    }
   ],
   "source": [
    "moyennes = df[df.tache != 0].groupby(['tache','participant']).rt.mean().reset_index()\n",
    "#Je calcule d'abord les moyenne de TR pour chaque participant dans les trois tâches puis je calcule la dispersion, par l'ecart-type, de ces moyennes\n",
    "sd = df[df.tache != 0].groupby(['participant','tache']).rt.std().reset_index()\n",
    "print(sd)"
   ]
  },
  {
   "cell_type": "markdown",
   "metadata": {},
   "source": [
    "Dans un plan inter-sujet, chaque sujet passe par une modalité seulement ainsi je n'ai (ici virtuellement) qu'un point d'observation (moyenne) par sujet"
   ]
  },
  {
   "cell_type": "code",
   "execution_count": 15,
   "metadata": {},
   "outputs": [
    {
     "data": {
      "image/png": "[encoded data removed]",
      "text/plain": [
       "<Figure size 432x288 with 1 Axes>"
      ]
     },
     "metadata": {
      "needs_background": "light"
     },
     "output_type": "display_data"
    }
   ],
   "source": [
    "for sujet, donnee_sujet in moyennes.groupby('participant'):\n",
    "    plt.plot(donnee_sujet.tache, donnee_sujet.rt,'o',label=sujet, color='k')\n",
    "plt.ylabel('Moyenne de TR (ms)')\n",
    "plt.xlabel('numéro de la tâche')\n",
    "plt.xticks([1,2,3])\n",
    "plt.show()"
   ]
  },
  {
   "cell_type": "markdown",
   "metadata": {},
   "source": [
    "Il est ainsi difficile de dire, si j'ai peu de sujets dans chaque cellule/modalité, si c'est bien un effet de ma VI ou si, par biais d'échantillonage, les participants de la troisième modalité étaient tout simplement plus lents."
   ]
  },
  {
   "cell_type": "markdown",
   "metadata": {},
   "source": [
    "En revanche dans un plan intra-sujet je peux donc observer l'effet de ma VI sur chaque sujet individuellement puisque j'ai bien une moyenne par modalité"
   ]
  },
  {
   "cell_type": "code",
   "execution_count": 16,
   "metadata": {},
   "outputs": [
    {
     "data": {
      "image/png": "[encoded data removed]",
      "text/plain": [
       "<Figure size 432x288 with 1 Axes>"
      ]
     },
     "metadata": {
      "needs_background": "light"
     },
     "output_type": "display_data"
    }
   ],
   "source": [
    "for sujet, donnee_sujet in moyennes.groupby('participant'):\n",
    "    plt.plot(donnee_sujet.tache, donnee_sujet.rt,'o-',label=sujet)\n",
    "plt.legend(bbox_to_anchor=(1.05, 1), loc=2, borderaxespad=0.)\n",
    "plt.ylabel('Moyenne de TR (ms)')\n",
    "plt.xlabel('numéro de la tâche')\n",
    "plt.xticks([1,2,3])\n",
    "plt.show()"
   ]
  },
  {
   "cell_type": "markdown",
   "metadata": {},
   "source": [
    "Ici j'observe que quasiment tous les sujets se conforment à ma prédiction 3 > 2 > 1, renforçant ainsi l'évidence en faveur de mon hypothèse, cependant on peut toujours imaginer que par un biais d'échantillonnage je n'ai sélectionné que des sujets présentant un effet de ralentissement, et que la populaiton contient en réalité autant de personnes présentant une accélération. D'où l'importance, même dans un plan intra-sujet d'avoir un nombre suffisant de sujets pour généraliser les résultats au delà de l'échantillon."
   ]
  },
  {
   "cell_type": "markdown",
   "metadata": {},
   "source": [
    "# Impact du nombre d'observations"
   ]
  },
  {
   "cell_type": "markdown",
   "metadata": {},
   "source": [
    "Quel impact si au lieu de 96 essais je n'en ai qu'une dizaine ?"
   ]
  },
  {
   "cell_type": "code",
   "execution_count": 17,
   "metadata": {},
   "outputs": [],
   "source": [
    "#Ici je tire aléatoirement 10 essais pour chaque combinaison de participant X tache\n",
    "tirage = df[df.tache != 0].groupby(['participant','tache']).apply(lambda x: x.sample(10, random_state=111)).reset_index(drop=True)"
   ]
  },
  {
   "cell_type": "code",
   "execution_count": 18,
   "metadata": {},
   "outputs": [
    {
     "data": {
      "text/html": [
       "<div>\n",
       "<style scoped>\n",
       "    .dataframe tbody tr th:only-of-type {\n",
       "        vertical-align: middle;\n",
       "    }\n",
       "\n",
       "    .dataframe tbody tr th {\n",
       "        vertical-align: top;\n",
       "    }\n",
       "\n",
       "    .dataframe thead th {\n",
       "        text-align: right;\n",
       "    }\n",
       "</style>\n",
       "<table border=\"1\" class=\"dataframe\">\n",
       "  <thead>\n",
       "    <tr style=\"text-align: right;\">\n",
       "      <th></th>\n",
       "      <th>expected</th>\n",
       "      <th>response</th>\n",
       "      <th>precision</th>\n",
       "      <th>rt</th>\n",
       "      <th>trial</th>\n",
       "      <th>tache</th>\n",
       "      <th>participant</th>\n",
       "      <th>ordre</th>\n",
       "    </tr>\n",
       "  </thead>\n",
       "  <tbody>\n",
       "    <tr>\n",
       "      <th>0</th>\n",
       "      <td>different</td>\n",
       "      <td>different</td>\n",
       "      <td>1.0</td>\n",
       "      <td>600.2779</td>\n",
       "      <td>88.0</td>\n",
       "      <td>1.0</td>\n",
       "      <td>1</td>\n",
       "      <td>123</td>\n",
       "    </tr>\n",
       "    <tr>\n",
       "      <th>1</th>\n",
       "      <td>different</td>\n",
       "      <td>different</td>\n",
       "      <td>1.0</td>\n",
       "      <td>611.1364</td>\n",
       "      <td>17.0</td>\n",
       "      <td>1.0</td>\n",
       "      <td>1</td>\n",
       "      <td>123</td>\n",
       "    </tr>\n",
       "    <tr>\n",
       "      <th>2</th>\n",
       "      <td>different</td>\n",
       "      <td>different</td>\n",
       "      <td>1.0</td>\n",
       "      <td>486.5745</td>\n",
       "      <td>65.0</td>\n",
       "      <td>1.0</td>\n",
       "      <td>1</td>\n",
       "      <td>123</td>\n",
       "    </tr>\n",
       "    <tr>\n",
       "      <th>3</th>\n",
       "      <td>same</td>\n",
       "      <td>same</td>\n",
       "      <td>1.0</td>\n",
       "      <td>874.4594</td>\n",
       "      <td>16.0</td>\n",
       "      <td>1.0</td>\n",
       "      <td>1</td>\n",
       "      <td>123</td>\n",
       "    </tr>\n",
       "    <tr>\n",
       "      <th>4</th>\n",
       "      <td>different</td>\n",
       "      <td>different</td>\n",
       "      <td>1.0</td>\n",
       "      <td>574.7732</td>\n",
       "      <td>63.0</td>\n",
       "      <td>1.0</td>\n",
       "      <td>1</td>\n",
       "      <td>123</td>\n",
       "    </tr>\n",
       "  </tbody>\n",
       "</table>\n",
       "</div>"
      ],
      "text/plain": [
       "    expected   response  precision        rt  trial  tache  participant ordre\n",
       "0  different  different        1.0  600.2779   88.0    1.0            1   123\n",
       "1  different  different        1.0  611.1364   17.0    1.0            1   123\n",
       "2  different  different        1.0  486.5745   65.0    1.0            1   123\n",
       "3       same       same        1.0  874.4594   16.0    1.0            1   123\n",
       "4  different  different        1.0  574.7732   63.0    1.0            1   123"
      ]
     },
     "execution_count": 18,
     "metadata": {},
     "output_type": "execute_result"
    }
   ],
   "source": [
    "tirage.head()"
   ]
  },
  {
   "cell_type": "code",
   "execution_count": 19,
   "metadata": {},
   "outputs": [
    {
     "name": "stdout",
     "output_type": "stream",
     "text": [
      "tache\n",
      "1.0     89.961395\n",
      "2.0     88.471161\n",
      "3.0    140.714817\n",
      "Name: rt, dtype: float64\n"
     ]
    },
    {
     "name": "stderr",
     "output_type": "stream",
     "text": [
      "/home/gabriel/anaconda3/envs/pystan/lib/python3.7/site-packages/ipykernel_launcher.py:3: UserWarning: Boolean Series key will be reindexed to match DataFrame index.\n",
      "  This is separate from the ipykernel package so we can avoid doing imports until\n"
     ]
    }
   ],
   "source": [
    "moyennes = tirage[tirage.tache != 0].groupby('tache').rt.mean()\n",
    "#Je calcule d'abord les moyenne de TR pour chaque participant dans les trois tâches puis je calcule la dispersion, par l'ecart-type, de ces moyennes\n",
    "sd = tirage[df.tache != 0].groupby(['participant','tache']).rt.mean().reset_index().groupby('tache').rt.std()\n",
    "print(sd)"
   ]
  },
  {
   "cell_type": "code",
   "execution_count": 20,
   "metadata": {},
   "outputs": [
    {
     "data": {
      "image/png": "[encoded data removed]",
      "text/plain": [
       "<Figure size 432x288 with 1 Axes>"
      ]
     },
     "metadata": {
      "needs_background": "light"
     },
     "output_type": "display_data"
    }
   ],
   "source": [
    "plt.errorbar(moyennes.index, moyennes.values, yerr=sd, marker='o')\n",
    "plt.ylabel('Moyenne de TR (ms)')\n",
    "plt.xlabel('numéro de la tâche')\n",
    "plt.xticks([1,2,3])\n",
    "plt.show()"
   ]
  },
  {
   "cell_type": "markdown",
   "metadata": {},
   "source": [
    "On observe que les résultats vont dans le même sens même si la variabilité a augmentée, heureusement l'effet semble suffisamment robuste/fort pour apparaître même avec peu d'essais. Si en revanche je prends un cas plus extrême et je n'échantillonais qu'une observation par sujet :"
   ]
  },
  {
   "cell_type": "code",
   "execution_count": 21,
   "metadata": {},
   "outputs": [],
   "source": [
    "#Ici je tire aléatoirement 1 essais pour chaque combinaison de participant X tache\n",
    "tirage = df[df.tache != 0].groupby(['participant','tache']).apply(lambda x: x.sample(1, random_state=111)).reset_index(drop=True)"
   ]
  },
  {
   "cell_type": "code",
   "execution_count": 22,
   "metadata": {},
   "outputs": [
    {
     "data": {
      "text/html": [
       "<div>\n",
       "<style scoped>\n",
       "    .dataframe tbody tr th:only-of-type {\n",
       "        vertical-align: middle;\n",
       "    }\n",
       "\n",
       "    .dataframe tbody tr th {\n",
       "        vertical-align: top;\n",
       "    }\n",
       "\n",
       "    .dataframe thead th {\n",
       "        text-align: right;\n",
       "    }\n",
       "</style>\n",
       "<table border=\"1\" class=\"dataframe\">\n",
       "  <thead>\n",
       "    <tr style=\"text-align: right;\">\n",
       "      <th></th>\n",
       "      <th>expected</th>\n",
       "      <th>response</th>\n",
       "      <th>precision</th>\n",
       "      <th>rt</th>\n",
       "      <th>trial</th>\n",
       "      <th>tache</th>\n",
       "      <th>participant</th>\n",
       "      <th>ordre</th>\n",
       "    </tr>\n",
       "  </thead>\n",
       "  <tbody>\n",
       "    <tr>\n",
       "      <th>0</th>\n",
       "      <td>different</td>\n",
       "      <td>different</td>\n",
       "      <td>1.0</td>\n",
       "      <td>600.2779</td>\n",
       "      <td>88.0</td>\n",
       "      <td>1.0</td>\n",
       "      <td>1</td>\n",
       "      <td>123</td>\n",
       "    </tr>\n",
       "    <tr>\n",
       "      <th>1</th>\n",
       "      <td>different</td>\n",
       "      <td>different</td>\n",
       "      <td>1.0</td>\n",
       "      <td>578.0009</td>\n",
       "      <td>88.0</td>\n",
       "      <td>2.0</td>\n",
       "      <td>1</td>\n",
       "      <td>123</td>\n",
       "    </tr>\n",
       "    <tr>\n",
       "      <th>2</th>\n",
       "      <td>same</td>\n",
       "      <td>same</td>\n",
       "      <td>1.0</td>\n",
       "      <td>555.6645</td>\n",
       "      <td>88.0</td>\n",
       "      <td>3.0</td>\n",
       "      <td>1</td>\n",
       "      <td>123</td>\n",
       "    </tr>\n",
       "    <tr>\n",
       "      <th>3</th>\n",
       "      <td>different</td>\n",
       "      <td>different</td>\n",
       "      <td>1.0</td>\n",
       "      <td>752.0183</td>\n",
       "      <td>88.0</td>\n",
       "      <td>1.0</td>\n",
       "      <td>2</td>\n",
       "      <td>123</td>\n",
       "    </tr>\n",
       "    <tr>\n",
       "      <th>4</th>\n",
       "      <td>different</td>\n",
       "      <td>different</td>\n",
       "      <td>1.0</td>\n",
       "      <td>598.9233</td>\n",
       "      <td>88.0</td>\n",
       "      <td>2.0</td>\n",
       "      <td>2</td>\n",
       "      <td>123</td>\n",
       "    </tr>\n",
       "  </tbody>\n",
       "</table>\n",
       "</div>"
      ],
      "text/plain": [
       "    expected   response  precision        rt  trial  tache  participant ordre\n",
       "0  different  different        1.0  600.2779   88.0    1.0            1   123\n",
       "1  different  different        1.0  578.0009   88.0    2.0            1   123\n",
       "2       same       same        1.0  555.6645   88.0    3.0            1   123\n",
       "3  different  different        1.0  752.0183   88.0    1.0            2   123\n",
       "4  different  different        1.0  598.9233   88.0    2.0            2   123"
      ]
     },
     "execution_count": 22,
     "metadata": {},
     "output_type": "execute_result"
    }
   ],
   "source": [
    "tirage.head()"
   ]
  },
  {
   "cell_type": "code",
   "execution_count": 23,
   "metadata": {},
   "outputs": [
    {
     "name": "stdout",
     "output_type": "stream",
     "text": [
      "tache\n",
      "1.0    108.007337\n",
      "2.0     59.524386\n",
      "3.0    248.933038\n",
      "Name: rt, dtype: float64\n"
     ]
    },
    {
     "name": "stderr",
     "output_type": "stream",
     "text": [
      "/home/gabriel/anaconda3/envs/pystan/lib/python3.7/site-packages/ipykernel_launcher.py:3: UserWarning: Boolean Series key will be reindexed to match DataFrame index.\n",
      "  This is separate from the ipykernel package so we can avoid doing imports until\n"
     ]
    }
   ],
   "source": [
    "moyennes = tirage[tirage.tache != 0].groupby('tache').rt.mean()\n",
    "#Je calcule d'abord les moyenne de TR pour chaque participant dans les trois tâches puis je calcule la dispersion, par l'ecart-type, de ces moyennes\n",
    "sd = tirage[df.tache != 0].groupby(['participant','tache']).rt.mean().reset_index().groupby('tache').rt.std()\n",
    "print(sd)"
   ]
  },
  {
   "cell_type": "code",
   "execution_count": 24,
   "metadata": {},
   "outputs": [
    {
     "data": {
      "image/png": "[encoded data removed]",
      "text/plain": [
       "<Figure size 432x288 with 1 Axes>"
      ]
     },
     "metadata": {
      "needs_background": "light"
     },
     "output_type": "display_data"
    }
   ],
   "source": [
    "plt.errorbar(moyennes.index, moyennes.values, yerr=sd, marker='o')\n",
    "plt.ylabel('Moyenne de TR (ms)')\n",
    "plt.xlabel('numéro de la tâche')\n",
    "plt.xticks([1,2,3])\n",
    "plt.show()"
   ]
  },
  {
   "cell_type": "markdown",
   "metadata": {},
   "source": [
    "Je n'observe par exemple plus de différence entre la tache 1 et la tâche 2, ce qui ne validerait pas (au moins en partie) mon hypothèse théorique."
   ]
  },
  {
   "cell_type": "markdown",
   "metadata": {},
   "source": [
    "## Impact de l'ordre"
   ]
  },
  {
   "cell_type": "markdown",
   "metadata": {},
   "source": [
    "Pour illustrer l'impact de l'ordre je vais calculer séparément les moyennes pour les trois ordres dont je dispose (123,213,321). Cependant vu le faible nombre d'ordre finalement réalisé et le peu de sujet par ordre il va être difficile de tirer des conclusions sur cet effet d'ordre de passation des tâches"
   ]
  },
  {
   "cell_type": "code",
   "execution_count": 25,
   "metadata": {},
   "outputs": [
    {
     "name": "stdout",
     "output_type": "stream",
     "text": [
      "   tache ordre          rt\n",
      "0    1.0   123  561.686587\n",
      "1    1.0   213  599.313279\n",
      "2    1.0   321  548.402285\n",
      "3    2.0   123  611.018458\n",
      "4    2.0   213  676.726741\n",
      "5    2.0   321  639.289691\n",
      "6    3.0   123  959.052215\n",
      "7    3.0   213  797.841238\n",
      "8    3.0   321  870.718590\n"
     ]
    }
   ],
   "source": [
    "moyennes = df[df.tache != 0].groupby(['tache','ordre']).rt.mean().reset_index()\n",
    "#Je calcule d'abord les moyenne de TR pour chaque participant dans les trois tâches puis je calcule la dispersion, par l'ecart-type, de ces moyennes\n",
    "sd = df[df.tache != 0].groupby(['participant','tache','ordre']).rt.mean().reset_index().groupby(['tache','ordre']).rt.std().reset_index()\n",
    "print(moyennes)"
   ]
  },
  {
   "cell_type": "code",
   "execution_count": 26,
   "metadata": {},
   "outputs": [
    {
     "data": {
      "image/png": "[encoded data removed]",
      "text/plain": [
       "<Figure size 432x288 with 1 Axes>"
      ]
     },
     "metadata": {
      "needs_background": "light"
     },
     "output_type": "display_data"
    }
   ],
   "source": [
    "plt.errorbar(moyennes[moyennes.ordre == \"123\"].tache, moyennes[moyennes.ordre == \"123\"].rt,  yerr = sd[sd.ordre == \"123\"].rt, marker='o', label=\"123\")\n",
    "plt.errorbar(moyennes[moyennes.ordre == \"321\"].tache+.05, moyennes[moyennes.ordre == \"321\"].rt,  yerr = sd[sd.ordre == \"321\"].rt,  marker='o', label=\"321\")\n",
    "plt.errorbar(moyennes[moyennes.ordre == \"213\"].tache-.05, moyennes[moyennes.ordre == \"213\"].rt,  yerr = sd[sd.ordre == \"213\"].rt,  marker='o', label=\"213\")\n",
    "plt.legend()\n",
    "plt.ylabel('Moyenne de TR (ms)')\n",
    "plt.xlabel('numéro de la tâche')\n",
    "plt.xticks([1,2,3])\n",
    "plt.show()"
   ]
  },
  {
   "cell_type": "markdown",
   "metadata": {},
   "source": [
    "Ici je vois que les sujets avec l'ordre 123 ont une différence entre la première et la dernière tâche plus important. Il se pourrait en effet qu'avec ma VI se confonde la fatigue des sujets à mesure que l'expérience avance, en revanche étant donné le faible nombre de participant récolté par ordre je n epeux évidemment pas tirer de conclusion sur la nature de la différence observée."
   ]
  },
  {
   "cell_type": "markdown",
   "metadata": {},
   "source": [
    "# Conclusion\n"
   ]
  },
  {
   "cell_type": "markdown",
   "metadata": {},
   "source": [
    "En conclusion ce petit exemple nous a permis d\"explorer comment d'une hypothèse théorique (le TR est composé d'une succession d'étape de traitement de l'information) je traduis une hypothèse opérationnelle (3 > 2 > 1). Si je veux, à partir de mes résultats expérimentaux, inférer quelque chose sur mon hypothèse théorique je dois m'assurer que mes conclusions ne dépendent pas des choix expérimentaux qui ont permis cette traduction, par exemple :\n",
    "- dans le choix du matériel (dans le matériel de Posner et Mitchell on observe par exemple qu'ils utilisent le même matériel dans les trois tâches)\n",
    "- de la mesure que je choisi\n",
    "- de la puissance statistique (influencée par mon nombre de participants/essais mais aussi du type de plan, de la mesure choisie)\n",
    "- de facteurs confondus (e.g. ordre, non-randomisation/contrebalancement)"
   ]
  },
  {
   "cell_type": "markdown",
   "metadata": {},
   "source": [
    "Bonne continuation à vous"
   ]
  },
  {
   "cell_type": "markdown",
   "metadata": {},
   "source": [
    "Pour toute question je reste à votre disposition par e-mail\n",
    "\n",
    "Gabriel Weindel"
   ]
  },
  {
   "cell_type": "code",
   "execution_count": null,
   "metadata": {},
   "outputs": [],
   "source": []
  }
 ],
 "metadata": {
  "kernelspec": {
   "display_name": "Python 3",
   "language": "python",
   "name": "python3"
  },
  "language_info": {
   "codemirror_mode": {
    "name": "ipython",
    "version": 3
   },
   "file_extension": ".py",
   "mimetype": "text/x-python",
   "name": "python",
   "nbconvert_exporter": "python",
   "pygments_lexer": "ipython3",
   "version": "3.8.5"
  }
 },
 "nbformat": 4,
 "nbformat_minor": 4
}
